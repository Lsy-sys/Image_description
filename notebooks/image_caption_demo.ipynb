{
  "cells": [
    {
      "cell_type": "markdown",
      "metadata": {},
      "source": [
        "# 图像描述生成演示\n",
        "\n",
        "本notebook演示如何使用训练好的模型进行图像描述生成。\n"
      ]
    },
    {
      "cell_type": "code",
      "execution_count": null,
      "metadata": {},
      "outputs": [],
      "source": [
        "import os\n",
        "import sys\n",
        "import torch\n",
        "from PIL import Image\n",
        "import matplotlib.pyplot as plt\n",
        "\n",
        "# 添加项目根目录到路径\n",
        "sys.path.append('..')\n",
        "\n",
        "from models.cnn_gru.model import CNNGruModel\n",
        "from data.transforms import ImageTransforms\n"
      ]
    }
  ],
  "metadata": {
    "language_info": {
      "name": "python"
    }
  },
  "nbformat": 4,
  "nbformat_minor": 2
}
